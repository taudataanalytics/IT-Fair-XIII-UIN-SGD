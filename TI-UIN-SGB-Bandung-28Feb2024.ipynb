{
 "cells": [
  {
   "cell_type": "markdown",
   "metadata": {
    "slideshow": {
     "slide_type": "slide"
    },
    "tags": []
   },
   "source": [
    "# <center><font color=\"blue\">IT Fair XIII:</font><br>Data Science Workshop</center><center><br><font color=\"green\">UIN Sunan Gunung Djati, Fakultas Sains dan Teknologi</font></center><center><font color=\"black\">Himpunan Mahasiswa Teknik informatika</font></center><center><font color=\"blue\">Bandung, 28 Februari 2024</font> </center>\n",
    "\n",
    "<center> <img alt=\"\" src=\"images/covers/cover_uin-bandung-taudata.jpg\"/> </center>\n",
    "\n",
    "# <center><font color=\"blue\">Taufik Sutanto</font></center>"
   ]
  },
  {
   "cell_type": "markdown",
   "metadata": {},
   "source": [
    "## <center><font color=\"blue\">Asumsi Data Science Workshop di IT Fair XIII</font></center>\n",
    "\n",
    "### <font color=\"blue\">**Tantangan**</font>: \n",
    " - Hanya 2 jam (termasuk diskusi)\n",
    " - Peserta mahasiswa tingkat 1 & 2\n",
    " - Jumlah peserta yang relatif banyak\n",
    "\n",
    "### <font color=\"blue\">**Strategi**</font>:\n",
    " - Pengenalan ke Topik materi yang bersifat \"trigger\" untuk mendalami data science lebih lanjut di lain waktu.\n",
    " - **Code & data** diberikan dan dapat diakses secara langsung ke peserta secara remote (tanpa harus mengunduh terlebih dahulu), dan dapat dijalankan langsung tanpa istalasi menggunakan Google Colab.\n",
    " - Menyesuaikan tema: fokus ke contoh kasus (**Case Study**) sederhana \"*journey*\" menghasilkan *insight* dan inovasi yang bisa dihasilkan menggunakan sebuah contoh kasus sederhana (*Data Story Telling*).\n",
    " - Proses data science dari hulu (*loading & preprocessing data*) sampai hilir (*deployment* sederhana dalam bentuk *dashboard*), termasuk\n",
    " - Belum membahas *predictive modelling*.\n",
    " \n",
    "<center><img src=\"images/lecture.jpg\" /></center>\n",
    "\n",
    "><font color=\"green\">\"*Minimum requirements and Maximum adjustments are two steps for Happy and Successful Life*\" ~ Maulik Jadav</font>"
   ]
  },
  {
   "cell_type": "markdown",
   "metadata": {},
   "source": [
    "# <center><font color=\"blue\">Persiapan Hands-On Studi Kasus:</font></center>\n",
    "\n",
    "* Google Colab (module ini): "
   ]
  },
  {
   "cell_type": "markdown",
   "metadata": {
    "slideshow": {
     "slide_type": "slide"
    }
   },
   "source": [
    "# <center><font color=\"blue\"> Outline: </font></center>\n",
    "\n",
    "* Pendahuluan Data Science\n",
    "* Latar Belakang Kasus: *Business & Data Understanding*\n",
    "* *Preprocessing* Sederhana\n",
    "* Statistika Dasar & Visualisasi\n",
    "* Diskusi Insight\n",
    "* Proyeksi Dampak (*impact*)\n",
    "* Deployment Sederhana ke Dashboard\n",
    "* Diskusi (Q & A)\n",
    "\n",
    "><font color=\"green\">\"*I always have a basic plot outline, but I like to leave some things to be decided while I write*.\" ~ J. K. Rowling</font>\n",
    "\n",
    "<center><img src=\"images/DataScience-laptop.jpg\" alt=\"\" /></center>"
   ]
  },
  {
   "cell_type": "markdown",
   "metadata": {
    "slideshow": {
     "slide_type": "slide"
    }
   },
   "source": [
    "# <center><font color=\"blue\">Era Data ke Big Data</font></center>\n"
   ]
  },
  {
   "cell_type": "markdown",
   "metadata": {
    "slideshow": {
     "slide_type": "slide"
    }
   },
   "source": [
    "# <center><font color=\"blue\">Big Data ke Industri Data</font></center>\n"
   ]
  },
  {
   "cell_type": "markdown",
   "metadata": {
    "slideshow": {
     "slide_type": "slide"
    }
   },
   "source": [
    "# <center><font color=\"blue\">Tantangan Industri Data</font></center>\n"
   ]
  },
  {
   "cell_type": "markdown",
   "metadata": {
    "slideshow": {
     "slide_type": "slide"
    }
   },
   "source": [
    "# <center><font color=\"blue\">Definisi</font></center>\n"
   ]
  },
  {
   "cell_type": "markdown",
   "metadata": {
    "slideshow": {
     "slide_type": "slide"
    }
   },
   "source": [
    "# <center><font color=\"blue\">Profesi Data</font></center>\n"
   ]
  },
  {
   "cell_type": "markdown",
   "metadata": {
    "slideshow": {
     "slide_type": "slide"
    }
   },
   "source": [
    "# <center><font color=\"blue\">AI & Big data</font></center>\n"
   ]
  },
  {
   "cell_type": "markdown",
   "metadata": {},
   "source": [
    "# <center><font color=\"blue\">Contoh Data Science Applications</font></center>\n"
   ]
  },
  {
   "cell_type": "code",
   "execution_count": null,
   "metadata": {},
   "outputs": [],
   "source": []
  },
  {
   "cell_type": "code",
   "execution_count": null,
   "metadata": {},
   "outputs": [],
   "source": []
  },
  {
   "cell_type": "markdown",
   "metadata": {
    "slideshow": {
     "slide_type": "slide"
    }
   },
   "source": [
    "# <center><font color=\"blue\">Miskonsepsi Data Preprocessing</font></center>\n",
    "\n",
    "<center><img src=\"images/data_multi_preprocessing.png\" width=\"175\" height=\"274\" /></center>"
   ]
  },
  {
   "cell_type": "markdown",
   "metadata": {
    "slideshow": {
     "slide_type": "slide"
    }
   },
   "source": []
  },
  {
   "cell_type": "markdown",
   "metadata": {
    "slideshow": {
     "slide_type": "slide"
    }
   },
   "source": []
  },
  {
   "cell_type": "markdown",
   "metadata": {
    "slideshow": {
     "slide_type": "slide"
    }
   },
   "source": []
  },
  {
   "cell_type": "markdown",
   "metadata": {
    "slideshow": {
     "slide_type": "slide"
    }
   },
   "source": []
  },
  {
   "cell_type": "markdown",
   "metadata": {
    "slideshow": {
     "slide_type": "slide"
    }
   },
   "source": []
  },
  {
   "cell_type": "markdown",
   "metadata": {
    "slideshow": {
     "slide_type": "slide"
    }
   },
   "source": []
  },
  {
   "cell_type": "markdown",
   "metadata": {
    "slideshow": {
     "slide_type": "slide"
    }
   },
   "source": []
  },
  {
   "cell_type": "markdown",
   "metadata": {
    "slideshow": {
     "slide_type": "slide"
    }
   },
   "source": []
  },
  {
   "cell_type": "markdown",
   "metadata": {
    "slideshow": {
     "slide_type": "slide"
    }
   },
   "source": []
  },
  {
   "cell_type": "markdown",
   "metadata": {
    "slideshow": {
     "slide_type": "slide"
    }
   },
   "source": []
  },
  {
   "cell_type": "markdown",
   "metadata": {
    "slideshow": {
     "slide_type": "slide"
    }
   },
   "source": []
  },
  {
   "cell_type": "markdown",
   "metadata": {
    "slideshow": {
     "slide_type": "slide"
    }
   },
   "source": []
  },
  {
   "cell_type": "markdown",
   "metadata": {
    "slideshow": {
     "slide_type": "slide"
    }
   },
   "source": []
  },
  {
   "cell_type": "markdown",
   "metadata": {
    "slideshow": {
     "slide_type": "slide"
    }
   },
   "source": []
  },
  {
   "cell_type": "markdown",
   "metadata": {
    "slideshow": {
     "slide_type": "slide"
    }
   },
   "source": []
  },
  {
   "cell_type": "markdown",
   "metadata": {
    "slideshow": {
     "slide_type": "slide"
    }
   },
   "source": [
    "# <center><font color=\"blue\">Persiapan Hands-On Deployment via Dashboard:</font></center>\n",
    "\n",
    "* Data hasil preprocessing Module ini: "
   ]
  },
  {
   "cell_type": "markdown",
   "metadata": {
    "slideshow": {
     "slide_type": "slide"
    }
   },
   "source": []
  },
  {
   "cell_type": "markdown",
   "metadata": {
    "slideshow": {
     "slide_type": "slide"
    }
   },
   "source": [
    "# <center><font color=\"blue\"> Akhir Modul Workshop IT FAIR XIII </font></center>\n",
    "\n",
    "<hr />\n",
    "<center><img alt=\"\" src=\"images/meme-cartoon/paul-meme-ds-fun.png\" /></center>"
   ]
  }
 ],
 "metadata": {
  "celltoolbar": "Slideshow",
  "hide_input": false,
  "kernelspec": {
   "display_name": "Python 3 (ipykernel)",
   "language": "python",
   "name": "python3"
  },
  "language_info": {
   "codemirror_mode": {
    "name": "ipython",
    "version": 3
   },
   "file_extension": ".py",
   "mimetype": "text/x-python",
   "name": "python",
   "nbconvert_exporter": "python",
   "pygments_lexer": "ipython3",
   "version": "3.10.13"
  },
  "latex_envs": {
   "LaTeX_envs_menu_present": true,
   "autoclose": false,
   "autocomplete": true,
   "bibliofile": "biblio.bib",
   "cite_by": "apalike",
   "current_citInitial": 1,
   "eqLabelWithNumbers": true,
   "eqNumInitial": 1,
   "hotkeys": {
    "equation": "Ctrl-E",
    "itemize": "Ctrl-I"
   },
   "labels_anchors": false,
   "latex_user_defs": false,
   "report_style_numbering": false,
   "user_envs_cfg": false
  },
  "vp": {
   "vp_config_version": "1.0.0",
   "vp_menu_width": 273,
   "vp_note_display": false,
   "vp_note_width": 0,
   "vp_position": {
    "width": 278
   },
   "vp_section_display": true,
   "vp_signature": "VisualPython"
  }
 },
 "nbformat": 4,
 "nbformat_minor": 4
}
